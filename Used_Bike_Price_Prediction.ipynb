{
 "cells": [
  {
   "cell_type": "code",
   "execution_count": 77,
   "metadata": {},
   "outputs": [],
   "source": [
    "#importing the librarires.\n",
    "import pandas as pd\n",
    "import numpy as np\n",
    "import matplotlib.pyplot as plt\n",
    "import seaborn as sns\n",
    "from sklearn.model_selection import train_test_split\n",
    "from sklearn.ensemble import RandomForestRegressor\n",
    "import xgboost\n",
    "from sklearn.ensemble import GradientBoostingRegressor\n",
    "from sklearn.ensemble import AdaBoostRegressor\n",
    "from sklearn import metrics\n",
    "from sklearn.metrics import mean_absolute_error\n",
    "import pickle"
   ]
  },
  {
   "cell_type": "code",
   "execution_count": 3,
   "metadata": {},
   "outputs": [
    {
     "data": {
      "text/html": [
       "<div>\n",
       "<style scoped>\n",
       "    .dataframe tbody tr th:only-of-type {\n",
       "        vertical-align: middle;\n",
       "    }\n",
       "\n",
       "    .dataframe tbody tr th {\n",
       "        vertical-align: top;\n",
       "    }\n",
       "\n",
       "    .dataframe thead th {\n",
       "        text-align: right;\n",
       "    }\n",
       "</style>\n",
       "<table border=\"1\" class=\"dataframe\">\n",
       "  <thead>\n",
       "    <tr style=\"text-align: right;\">\n",
       "      <th></th>\n",
       "      <th>Unnamed: 0</th>\n",
       "      <th>Name</th>\n",
       "      <th>Price</th>\n",
       "      <th>Location</th>\n",
       "      <th>Running</th>\n",
       "      <th>Owner</th>\n",
       "    </tr>\n",
       "  </thead>\n",
       "  <tbody>\n",
       "    <tr>\n",
       "      <th>0</th>\n",
       "      <td>0</td>\n",
       "      <td>TVS Star City Plus Dual Tone 110cc 2018</td>\n",
       "      <td>35,000</td>\n",
       "      <td>Ahmedabad</td>\n",
       "      <td>17,654 Km</td>\n",
       "      <td>First Owner</td>\n",
       "    </tr>\n",
       "    <tr>\n",
       "      <th>1</th>\n",
       "      <td>1</td>\n",
       "      <td>Royal Enfield Classic 350cc 2017</td>\n",
       "      <td>1,19,900</td>\n",
       "      <td>Delhi</td>\n",
       "      <td>11,000 Km</td>\n",
       "      <td>First Owner</td>\n",
       "    </tr>\n",
       "    <tr>\n",
       "      <th>2</th>\n",
       "      <td>2</td>\n",
       "      <td>Triumph Daytona 675R 2013</td>\n",
       "      <td>6,00,000</td>\n",
       "      <td>Delhi</td>\n",
       "      <td>110 Km</td>\n",
       "      <td>First Owner</td>\n",
       "    </tr>\n",
       "    <tr>\n",
       "      <th>3</th>\n",
       "      <td>3</td>\n",
       "      <td>TVS Apache RTR 180cc 2017</td>\n",
       "      <td>65,000</td>\n",
       "      <td>Bangalore</td>\n",
       "      <td>16,329 Km</td>\n",
       "      <td>First Owner</td>\n",
       "    </tr>\n",
       "    <tr>\n",
       "      <th>4</th>\n",
       "      <td>4</td>\n",
       "      <td>Yamaha FZ S V 2.0 150cc-Ltd. Edition 2018</td>\n",
       "      <td>80,000</td>\n",
       "      <td>Bangalore</td>\n",
       "      <td>10,000 Km</td>\n",
       "      <td>First Owner</td>\n",
       "    </tr>\n",
       "  </tbody>\n",
       "</table>\n",
       "</div>"
      ],
      "text/plain": [
       "   Unnamed: 0                                       Name     Price   Location  \\\n",
       "0           0    TVS Star City Plus Dual Tone 110cc 2018    35,000  Ahmedabad   \n",
       "1           1           Royal Enfield Classic 350cc 2017  1,19,900      Delhi   \n",
       "2           2                  Triumph Daytona 675R 2013  6,00,000      Delhi   \n",
       "3           3                  TVS Apache RTR 180cc 2017    65,000  Bangalore   \n",
       "4           4  Yamaha FZ S V 2.0 150cc-Ltd. Edition 2018    80,000  Bangalore   \n",
       "\n",
       "     Running        Owner  \n",
       "0  17,654 Km  First Owner  \n",
       "1  11,000 Km  First Owner  \n",
       "2     110 Km  First Owner  \n",
       "3  16,329 Km  First Owner  \n",
       "4  10,000 Km  First Owner  "
      ]
     },
     "execution_count": 3,
     "metadata": {},
     "output_type": "execute_result"
    }
   ],
   "source": [
    "bike=pd.read_csv(r\"C:\\Users\\PRIYA\\WINDOWS FILE\\Desktop\\DATASCIENCE\\CASE STUDY\\USED_BIKE_PRICE_PREDICTION\\bike_data.csv\")\n",
    "bike.head()"
   ]
  },
  {
   "cell_type": "markdown",
   "metadata": {},
   "source": [
    "As i can see i have a feature with unnamed and 3 features with categorical variable.\n",
    "\n",
    "I have to bring that to numeric form of data."
   ]
  },
  {
   "cell_type": "code",
   "execution_count": 4,
   "metadata": {},
   "outputs": [],
   "source": [
    "#dropping the unnamed feature\n",
    "bike.drop(['Unnamed: 0'],axis=1,inplace=True)"
   ]
  },
  {
   "cell_type": "code",
   "execution_count": 5,
   "metadata": {},
   "outputs": [
    {
     "data": {
      "text/html": [
       "<div>\n",
       "<style scoped>\n",
       "    .dataframe tbody tr th:only-of-type {\n",
       "        vertical-align: middle;\n",
       "    }\n",
       "\n",
       "    .dataframe tbody tr th {\n",
       "        vertical-align: top;\n",
       "    }\n",
       "\n",
       "    .dataframe thead th {\n",
       "        text-align: right;\n",
       "    }\n",
       "</style>\n",
       "<table border=\"1\" class=\"dataframe\">\n",
       "  <thead>\n",
       "    <tr style=\"text-align: right;\">\n",
       "      <th></th>\n",
       "      <th>Name</th>\n",
       "      <th>Price</th>\n",
       "      <th>Location</th>\n",
       "      <th>Running</th>\n",
       "      <th>Owner</th>\n",
       "    </tr>\n",
       "  </thead>\n",
       "  <tbody>\n",
       "    <tr>\n",
       "      <th>0</th>\n",
       "      <td>TVS Star City Plus Dual Tone 110cc 2018</td>\n",
       "      <td>35,000</td>\n",
       "      <td>Ahmedabad</td>\n",
       "      <td>17,654 Km</td>\n",
       "      <td>First Owner</td>\n",
       "    </tr>\n",
       "    <tr>\n",
       "      <th>1</th>\n",
       "      <td>Royal Enfield Classic 350cc 2017</td>\n",
       "      <td>1,19,900</td>\n",
       "      <td>Delhi</td>\n",
       "      <td>11,000 Km</td>\n",
       "      <td>First Owner</td>\n",
       "    </tr>\n",
       "    <tr>\n",
       "      <th>2</th>\n",
       "      <td>Triumph Daytona 675R 2013</td>\n",
       "      <td>6,00,000</td>\n",
       "      <td>Delhi</td>\n",
       "      <td>110 Km</td>\n",
       "      <td>First Owner</td>\n",
       "    </tr>\n",
       "    <tr>\n",
       "      <th>3</th>\n",
       "      <td>TVS Apache RTR 180cc 2017</td>\n",
       "      <td>65,000</td>\n",
       "      <td>Bangalore</td>\n",
       "      <td>16,329 Km</td>\n",
       "      <td>First Owner</td>\n",
       "    </tr>\n",
       "    <tr>\n",
       "      <th>4</th>\n",
       "      <td>Yamaha FZ S V 2.0 150cc-Ltd. Edition 2018</td>\n",
       "      <td>80,000</td>\n",
       "      <td>Bangalore</td>\n",
       "      <td>10,000 Km</td>\n",
       "      <td>First Owner</td>\n",
       "    </tr>\n",
       "  </tbody>\n",
       "</table>\n",
       "</div>"
      ],
      "text/plain": [
       "                                        Name     Price   Location    Running  \\\n",
       "0    TVS Star City Plus Dual Tone 110cc 2018    35,000  Ahmedabad  17,654 Km   \n",
       "1           Royal Enfield Classic 350cc 2017  1,19,900      Delhi  11,000 Km   \n",
       "2                  Triumph Daytona 675R 2013  6,00,000      Delhi     110 Km   \n",
       "3                  TVS Apache RTR 180cc 2017    65,000  Bangalore  16,329 Km   \n",
       "4  Yamaha FZ S V 2.0 150cc-Ltd. Edition 2018    80,000  Bangalore  10,000 Km   \n",
       "\n",
       "         Owner  \n",
       "0  First Owner  \n",
       "1  First Owner  \n",
       "2  First Owner  \n",
       "3  First Owner  \n",
       "4  First Owner  "
      ]
     },
     "execution_count": 5,
     "metadata": {},
     "output_type": "execute_result"
    }
   ],
   "source": [
    "bike.head()"
   ]
  },
  {
   "cell_type": "code",
   "execution_count": 6,
   "metadata": {},
   "outputs": [
    {
     "data": {
      "text/plain": [
       "(34500, 5)"
      ]
     },
     "execution_count": 6,
     "metadata": {},
     "output_type": "execute_result"
    }
   ],
   "source": [
    "bike.shape"
   ]
  },
  {
   "cell_type": "code",
   "execution_count": 7,
   "metadata": {},
   "outputs": [
    {
     "name": "stdout",
     "output_type": "stream",
     "text": [
      "<class 'pandas.core.frame.DataFrame'>\n",
      "RangeIndex: 34500 entries, 0 to 34499\n",
      "Data columns (total 5 columns):\n",
      " #   Column    Non-Null Count  Dtype \n",
      "---  ------    --------------  ----- \n",
      " 0   Name      34500 non-null  object\n",
      " 1   Price     34500 non-null  object\n",
      " 2   Location  34492 non-null  object\n",
      " 3   Running   34473 non-null  object\n",
      " 4   Owner     32974 non-null  object\n",
      "dtypes: object(5)\n",
      "memory usage: 1.3+ MB\n"
     ]
    }
   ],
   "source": [
    "#let's check data types\n",
    "bike.info()"
   ]
  },
  {
   "cell_type": "code",
   "execution_count": 8,
   "metadata": {},
   "outputs": [
    {
     "data": {
      "text/plain": [
       "Name           0\n",
       "Price          0\n",
       "Location       8\n",
       "Running       27\n",
       "Owner       1526\n",
       "dtype: int64"
      ]
     },
     "execution_count": 8,
     "metadata": {},
     "output_type": "execute_result"
    }
   ],
   "source": [
    "bike.isnull().sum()"
   ]
  },
  {
   "cell_type": "code",
   "execution_count": 9,
   "metadata": {},
   "outputs": [
    {
     "data": {
      "text/plain": [
       "<matplotlib.axes._subplots.AxesSubplot at 0x1f53e604340>"
      ]
     },
     "execution_count": 9,
     "metadata": {},
     "output_type": "execute_result"
    },
    {
     "data": {
      "image/png": "[encoded data removed]",
      "text/plain": [
       "<Figure size 432x288 with 2 Axes>"
      ]
     },
     "metadata": {
      "needs_background": "light"
     },
     "output_type": "display_data"
    }
   ],
   "source": [
    "sns.heatmap(bike.isnull())"
   ]
  },
  {
   "cell_type": "markdown",
   "metadata": {},
   "source": [
    "I can use dropna function to drop all the nan values , but that can remove useful information as well so imputation is required."
   ]
  },
  {
   "cell_type": "code",
   "execution_count": 10,
   "metadata": {
    "scrolled": true
   },
   "outputs": [
    {
     "data": {
      "text/plain": [
       "First Owner             30262\n",
       "Second Owner             2586\n",
       "Third Owner               110\n",
       "Fourth Owner Or More       16\n",
       "Name: Owner, dtype: int64"
      ]
     },
     "execution_count": 10,
     "metadata": {},
     "output_type": "execute_result"
    }
   ],
   "source": [
    "bike['Owner'].value_counts()"
   ]
  },
  {
   "cell_type": "markdown",
   "metadata": {},
   "source": [
    "As i can see that First owner frequency is high let's go with First owner."
   ]
  },
  {
   "cell_type": "code",
   "execution_count": 11,
   "metadata": {},
   "outputs": [],
   "source": [
    "#let's start with the owner\n",
    "bike['Owner']=bike['Owner'].fillna('First Owner')"
   ]
  },
  {
   "cell_type": "code",
   "execution_count": 12,
   "metadata": {
    "scrolled": true
   },
   "outputs": [
    {
     "data": {
      "text/plain": [
       "Name         0\n",
       "Price        0\n",
       "Location     8\n",
       "Running     27\n",
       "Owner        0\n",
       "dtype: int64"
      ]
     },
     "execution_count": 12,
     "metadata": {},
     "output_type": "execute_result"
    }
   ],
   "source": [
    "#now the running feature.\n",
    "bike.isnull().sum()"
   ]
  },
  {
   "cell_type": "code",
   "execution_count": 13,
   "metadata": {},
   "outputs": [],
   "source": [
    "bike.dropna(inplace=True)"
   ]
  },
  {
   "cell_type": "markdown",
   "metadata": {},
   "source": [
    "As location and Running feature have few missing values i dropped it."
   ]
  },
  {
   "cell_type": "markdown",
   "metadata": {},
   "source": [
    "if we don't drop missing values , lambda function will not work ,it will throw error."
   ]
  },
  {
   "cell_type": "code",
   "execution_count": 14,
   "metadata": {
    "scrolled": true
   },
   "outputs": [],
   "source": [
    "#The ',' symbol from price and running column\n",
    "bike['Price']=bike['Price'].apply(lambda x: x.replace(',',''))\n",
    "bike['Running']=bike['Running'].apply(lambda x: x.replace(',',''))"
   ]
  },
  {
   "cell_type": "code",
   "execution_count": 15,
   "metadata": {},
   "outputs": [],
   "source": [
    "bike['Running']=bike['Running'].apply(lambda x: x.split(' ')[0])"
   ]
  },
  {
   "cell_type": "markdown",
   "metadata": {},
   "source": [
    "now i can see a better table, or i can say clean table."
   ]
  },
  {
   "cell_type": "code",
   "execution_count": 16,
   "metadata": {},
   "outputs": [
    {
     "data": {
      "text/html": [
       "<div>\n",
       "<style scoped>\n",
       "    .dataframe tbody tr th:only-of-type {\n",
       "        vertical-align: middle;\n",
       "    }\n",
       "\n",
       "    .dataframe tbody tr th {\n",
       "        vertical-align: top;\n",
       "    }\n",
       "\n",
       "    .dataframe thead th {\n",
       "        text-align: right;\n",
       "    }\n",
       "</style>\n",
       "<table border=\"1\" class=\"dataframe\">\n",
       "  <thead>\n",
       "    <tr style=\"text-align: right;\">\n",
       "      <th></th>\n",
       "      <th>Name</th>\n",
       "      <th>Price</th>\n",
       "      <th>Location</th>\n",
       "      <th>Running</th>\n",
       "      <th>Owner</th>\n",
       "    </tr>\n",
       "  </thead>\n",
       "  <tbody>\n",
       "    <tr>\n",
       "      <th>0</th>\n",
       "      <td>TVS Star City Plus Dual Tone 110cc 2018</td>\n",
       "      <td>35000</td>\n",
       "      <td>Ahmedabad</td>\n",
       "      <td>17654</td>\n",
       "      <td>First Owner</td>\n",
       "    </tr>\n",
       "    <tr>\n",
       "      <th>1</th>\n",
       "      <td>Royal Enfield Classic 350cc 2017</td>\n",
       "      <td>119900</td>\n",
       "      <td>Delhi</td>\n",
       "      <td>11000</td>\n",
       "      <td>First Owner</td>\n",
       "    </tr>\n",
       "    <tr>\n",
       "      <th>2</th>\n",
       "      <td>Triumph Daytona 675R 2013</td>\n",
       "      <td>600000</td>\n",
       "      <td>Delhi</td>\n",
       "      <td>110</td>\n",
       "      <td>First Owner</td>\n",
       "    </tr>\n",
       "    <tr>\n",
       "      <th>3</th>\n",
       "      <td>TVS Apache RTR 180cc 2017</td>\n",
       "      <td>65000</td>\n",
       "      <td>Bangalore</td>\n",
       "      <td>16329</td>\n",
       "      <td>First Owner</td>\n",
       "    </tr>\n",
       "    <tr>\n",
       "      <th>4</th>\n",
       "      <td>Yamaha FZ S V 2.0 150cc-Ltd. Edition 2018</td>\n",
       "      <td>80000</td>\n",
       "      <td>Bangalore</td>\n",
       "      <td>10000</td>\n",
       "      <td>First Owner</td>\n",
       "    </tr>\n",
       "  </tbody>\n",
       "</table>\n",
       "</div>"
      ],
      "text/plain": [
       "                                        Name   Price   Location Running  \\\n",
       "0    TVS Star City Plus Dual Tone 110cc 2018   35000  Ahmedabad   17654   \n",
       "1           Royal Enfield Classic 350cc 2017  119900      Delhi   11000   \n",
       "2                  Triumph Daytona 675R 2013  600000      Delhi     110   \n",
       "3                  TVS Apache RTR 180cc 2017   65000  Bangalore   16329   \n",
       "4  Yamaha FZ S V 2.0 150cc-Ltd. Edition 2018   80000  Bangalore   10000   \n",
       "\n",
       "         Owner  \n",
       "0  First Owner  \n",
       "1  First Owner  \n",
       "2  First Owner  \n",
       "3  First Owner  \n",
       "4  First Owner  "
      ]
     },
     "execution_count": 16,
     "metadata": {},
     "output_type": "execute_result"
    }
   ],
   "source": [
    "bike.head()"
   ]
  },
  {
   "cell_type": "code",
   "execution_count": 17,
   "metadata": {},
   "outputs": [],
   "source": [
    "#now let's check for duplicate values\n",
    "asd=bike[bike.duplicated()]"
   ]
  },
  {
   "cell_type": "code",
   "execution_count": 18,
   "metadata": {},
   "outputs": [
    {
     "name": "stdout",
     "output_type": "stream",
     "text": [
      "                                 Name   Price   Location Running        Owner\n",
      "20           Bajaj Discover 125M 2014   29900      Delhi   20000  First Owner\n",
      "21        Bajaj Pulsar RS200 ABS 2018  120000  Bangalore   23000  First Owner\n",
      "22        Suzuki Gixxer SF 150cc 2016   48000     Mumbai   24725  First Owner\n",
      "23      Aprilia Tuono V4 1100 RR 2018  500000    Chennai     100  First Owner\n",
      "28            Bajaj Pulsar NS200 2017   78000  Bangalore    9900  First Owner\n",
      "...                               ...     ...        ...     ...          ...\n",
      "34495     Hero Passion Pro 100cc 2017   39000      Delhi   22000  First Owner\n",
      "34496       TVS Apache RTR 180cc 2012   30000     Karnal    6639  First Owner\n",
      "34497   Bajaj Avenger Street 220 2015   60000      Delhi   20373  First Owner\n",
      "34498  Hero Super Splendor 125cc 2005   15600     Jaipur   84186  First Owner\n",
      "34499         Bajaj Pulsar 150cc 2008   22000       Pune   60857  First Owner\n",
      "\n",
      "[26682 rows x 5 columns]\n"
     ]
    }
   ],
   "source": [
    "print(asd)"
   ]
  },
  {
   "cell_type": "code",
   "execution_count": 19,
   "metadata": {},
   "outputs": [
    {
     "data": {
      "text/html": [
       "<div>\n",
       "<style scoped>\n",
       "    .dataframe tbody tr th:only-of-type {\n",
       "        vertical-align: middle;\n",
       "    }\n",
       "\n",
       "    .dataframe tbody tr th {\n",
       "        vertical-align: top;\n",
       "    }\n",
       "\n",
       "    .dataframe thead th {\n",
       "        text-align: right;\n",
       "    }\n",
       "</style>\n",
       "<table border=\"1\" class=\"dataframe\">\n",
       "  <thead>\n",
       "    <tr style=\"text-align: right;\">\n",
       "      <th></th>\n",
       "      <th>Name</th>\n",
       "      <th>Price</th>\n",
       "      <th>Location</th>\n",
       "      <th>Running</th>\n",
       "      <th>Owner</th>\n",
       "    </tr>\n",
       "  </thead>\n",
       "  <tbody>\n",
       "    <tr>\n",
       "      <th>0</th>\n",
       "      <td>TVS Star City Plus Dual Tone 110cc 2018</td>\n",
       "      <td>35000</td>\n",
       "      <td>Ahmedabad</td>\n",
       "      <td>17654</td>\n",
       "      <td>First Owner</td>\n",
       "    </tr>\n",
       "    <tr>\n",
       "      <th>1</th>\n",
       "      <td>Royal Enfield Classic 350cc 2017</td>\n",
       "      <td>119900</td>\n",
       "      <td>Delhi</td>\n",
       "      <td>11000</td>\n",
       "      <td>First Owner</td>\n",
       "    </tr>\n",
       "    <tr>\n",
       "      <th>2</th>\n",
       "      <td>Triumph Daytona 675R 2013</td>\n",
       "      <td>600000</td>\n",
       "      <td>Delhi</td>\n",
       "      <td>110</td>\n",
       "      <td>First Owner</td>\n",
       "    </tr>\n",
       "    <tr>\n",
       "      <th>3</th>\n",
       "      <td>TVS Apache RTR 180cc 2017</td>\n",
       "      <td>65000</td>\n",
       "      <td>Bangalore</td>\n",
       "      <td>16329</td>\n",
       "      <td>First Owner</td>\n",
       "    </tr>\n",
       "    <tr>\n",
       "      <th>4</th>\n",
       "      <td>Yamaha FZ S V 2.0 150cc-Ltd. Edition 2018</td>\n",
       "      <td>80000</td>\n",
       "      <td>Bangalore</td>\n",
       "      <td>10000</td>\n",
       "      <td>First Owner</td>\n",
       "    </tr>\n",
       "    <tr>\n",
       "      <th>...</th>\n",
       "      <td>...</td>\n",
       "      <td>...</td>\n",
       "      <td>...</td>\n",
       "      <td>...</td>\n",
       "      <td>...</td>\n",
       "    </tr>\n",
       "    <tr>\n",
       "      <th>9989</th>\n",
       "      <td>Hero Hunk Rear Disc 150cc 2013</td>\n",
       "      <td>25000</td>\n",
       "      <td>Delhi</td>\n",
       "      <td>48587</td>\n",
       "      <td>First Owner</td>\n",
       "    </tr>\n",
       "    <tr>\n",
       "      <th>9996</th>\n",
       "      <td>Bajaj Avenger 220cc 2012</td>\n",
       "      <td>35000</td>\n",
       "      <td>Bangalore</td>\n",
       "      <td>60000</td>\n",
       "      <td>First Owner</td>\n",
       "    </tr>\n",
       "    <tr>\n",
       "      <th>9997</th>\n",
       "      <td>Harley-Davidson Street 750 ABS 2017</td>\n",
       "      <td>450000</td>\n",
       "      <td>Jodhpur</td>\n",
       "      <td>3430</td>\n",
       "      <td>First Owner</td>\n",
       "    </tr>\n",
       "    <tr>\n",
       "      <th>9998</th>\n",
       "      <td>Bajaj Dominar 400 ABS 2017</td>\n",
       "      <td>139000</td>\n",
       "      <td>Hyderabad</td>\n",
       "      <td>21300</td>\n",
       "      <td>First Owner</td>\n",
       "    </tr>\n",
       "    <tr>\n",
       "      <th>9999</th>\n",
       "      <td>Bajaj Avenger Street 220 2016</td>\n",
       "      <td>80000</td>\n",
       "      <td>Hyderabad</td>\n",
       "      <td>7127</td>\n",
       "      <td>First Owner</td>\n",
       "    </tr>\n",
       "  </tbody>\n",
       "</table>\n",
       "<p>7783 rows × 5 columns</p>\n",
       "</div>"
      ],
      "text/plain": [
       "                                           Name   Price   Location Running  \\\n",
       "0       TVS Star City Plus Dual Tone 110cc 2018   35000  Ahmedabad   17654   \n",
       "1              Royal Enfield Classic 350cc 2017  119900      Delhi   11000   \n",
       "2                     Triumph Daytona 675R 2013  600000      Delhi     110   \n",
       "3                     TVS Apache RTR 180cc 2017   65000  Bangalore   16329   \n",
       "4     Yamaha FZ S V 2.0 150cc-Ltd. Edition 2018   80000  Bangalore   10000   \n",
       "...                                         ...     ...        ...     ...   \n",
       "9989             Hero Hunk Rear Disc 150cc 2013   25000      Delhi   48587   \n",
       "9996                   Bajaj Avenger 220cc 2012   35000  Bangalore   60000   \n",
       "9997        Harley-Davidson Street 750 ABS 2017  450000    Jodhpur    3430   \n",
       "9998                 Bajaj Dominar 400 ABS 2017  139000  Hyderabad   21300   \n",
       "9999              Bajaj Avenger Street 220 2016   80000  Hyderabad    7127   \n",
       "\n",
       "            Owner  \n",
       "0     First Owner  \n",
       "1     First Owner  \n",
       "2     First Owner  \n",
       "3     First Owner  \n",
       "4     First Owner  \n",
       "...           ...  \n",
       "9989  First Owner  \n",
       "9996  First Owner  \n",
       "9997  First Owner  \n",
       "9998  First Owner  \n",
       "9999  First Owner  \n",
       "\n",
       "[7783 rows x 5 columns]"
      ]
     },
     "execution_count": 19,
     "metadata": {},
     "output_type": "execute_result"
    }
   ],
   "source": [
    "bike.duplicated().sum()\n",
    "bike.drop_duplicates() "
   ]
  },
  {
   "cell_type": "code",
   "execution_count": 20,
   "metadata": {},
   "outputs": [
    {
     "data": {
      "text/plain": [
       "(34465, 5)"
      ]
     },
     "execution_count": 20,
     "metadata": {},
     "output_type": "execute_result"
    }
   ],
   "source": [
    "bike.shape"
   ]
  },
  {
   "cell_type": "markdown",
   "metadata": {},
   "source": [
    "So from this i can say : this dataset has 35 records duplicated which affects the ml model, so directly delete it."
   ]
  },
  {
   "cell_type": "markdown",
   "metadata": {},
   "source": [
    "Also, i need to make a feature for cc for better understanding."
   ]
  },
  {
   "cell_type": "markdown",
   "metadata": {},
   "source": [
    "Also an important thing is : extraction of cc number from text input, for that one must understand regular expression and the video is available on youtube : https://www.youtube.com/watch?v=K8L6KVGG-7o"
   ]
  },
  {
   "cell_type": "code",
   "execution_count": 21,
   "metadata": {},
   "outputs": [],
   "source": [
    "#creating a feature.\n",
    "#Deriving Cubic Capacity from 'Name' column\n",
    "bike['Cubic_Capacity']=bike.Name.str.extract(r'(\\d\\d\\d)',expand=False)"
   ]
  },
  {
   "cell_type": "code",
   "execution_count": 22,
   "metadata": {},
   "outputs": [
    {
     "data": {
      "text/plain": [
       "array(['110', '350', '675', '180', '150', '160', '100', '500', '250',\n",
       "       '200', '125', '302', '201', '220', '390', '600', '900', '650',\n",
       "       '223', '410', '135', '765', '300', '129', '750', '400', '130',\n",
       "       '821', '119', '883', '959', '295', '320', '310', '899', '535',\n",
       "       '113', '120', '105', '800', '126', '170', '175', '797', '796',\n",
       "       '149', '202', '109', '502', '107'], dtype=object)"
      ]
     },
     "execution_count": 22,
     "metadata": {},
     "output_type": "execute_result"
    }
   ],
   "source": [
    "#Checking all the unique values\n",
    "bike['Cubic_Capacity'].unique()"
   ]
  },
  {
   "cell_type": "code",
   "execution_count": 23,
   "metadata": {},
   "outputs": [
    {
     "data": {
      "text/plain": [
       "array(['2018', '2017', '2013', '2015', '2014', '2016', '1100', '2019',\n",
       "       '2005', '2008', '2012', '2011', '2007', '2009', '2010', '2020',\n",
       "       '1299', '1300', '2006', '1198', '1982', '1800', '1130', '1000',\n",
       "       '1200', '1050', '2004', '2003', '1991', '2002', '1262', '1998',\n",
       "       '1700', '1980', '1994', '1984', '1997', '2001', '2000', '1978',\n",
       "       '1600', '1983', '1958', '1090', '1943', '1987', '1990', '1999',\n",
       "       '1995', '1996'], dtype=object)"
      ]
     },
     "execution_count": 23,
     "metadata": {},
     "output_type": "execute_result"
    }
   ],
   "source": [
    "bike['Year']=bike.Name.str.extract(r'(\\d\\d\\d\\d)',expand=False)\n",
    "bike['Year'].unique()"
   ]
  },
  {
   "cell_type": "code",
   "execution_count": 24,
   "metadata": {},
   "outputs": [
    {
     "data": {
      "text/html": [
       "<div>\n",
       "<style scoped>\n",
       "    .dataframe tbody tr th:only-of-type {\n",
       "        vertical-align: middle;\n",
       "    }\n",
       "\n",
       "    .dataframe tbody tr th {\n",
       "        vertical-align: top;\n",
       "    }\n",
       "\n",
       "    .dataframe thead th {\n",
       "        text-align: right;\n",
       "    }\n",
       "</style>\n",
       "<table border=\"1\" class=\"dataframe\">\n",
       "  <thead>\n",
       "    <tr style=\"text-align: right;\">\n",
       "      <th></th>\n",
       "      <th>Name</th>\n",
       "      <th>Price</th>\n",
       "      <th>Location</th>\n",
       "      <th>Running</th>\n",
       "      <th>Owner</th>\n",
       "      <th>Cubic_Capacity</th>\n",
       "      <th>Year</th>\n",
       "    </tr>\n",
       "  </thead>\n",
       "  <tbody>\n",
       "    <tr>\n",
       "      <th>0</th>\n",
       "      <td>TVS Star City Plus Dual Tone 110cc 2018</td>\n",
       "      <td>35000</td>\n",
       "      <td>Ahmedabad</td>\n",
       "      <td>17654</td>\n",
       "      <td>First Owner</td>\n",
       "      <td>110</td>\n",
       "      <td>2018</td>\n",
       "    </tr>\n",
       "    <tr>\n",
       "      <th>1</th>\n",
       "      <td>Royal Enfield Classic 350cc 2017</td>\n",
       "      <td>119900</td>\n",
       "      <td>Delhi</td>\n",
       "      <td>11000</td>\n",
       "      <td>First Owner</td>\n",
       "      <td>350</td>\n",
       "      <td>2017</td>\n",
       "    </tr>\n",
       "    <tr>\n",
       "      <th>2</th>\n",
       "      <td>Triumph Daytona 675R 2013</td>\n",
       "      <td>600000</td>\n",
       "      <td>Delhi</td>\n",
       "      <td>110</td>\n",
       "      <td>First Owner</td>\n",
       "      <td>675</td>\n",
       "      <td>2013</td>\n",
       "    </tr>\n",
       "    <tr>\n",
       "      <th>3</th>\n",
       "      <td>TVS Apache RTR 180cc 2017</td>\n",
       "      <td>65000</td>\n",
       "      <td>Bangalore</td>\n",
       "      <td>16329</td>\n",
       "      <td>First Owner</td>\n",
       "      <td>180</td>\n",
       "      <td>2017</td>\n",
       "    </tr>\n",
       "    <tr>\n",
       "      <th>4</th>\n",
       "      <td>Yamaha FZ S V 2.0 150cc-Ltd. Edition 2018</td>\n",
       "      <td>80000</td>\n",
       "      <td>Bangalore</td>\n",
       "      <td>10000</td>\n",
       "      <td>First Owner</td>\n",
       "      <td>150</td>\n",
       "      <td>2018</td>\n",
       "    </tr>\n",
       "  </tbody>\n",
       "</table>\n",
       "</div>"
      ],
      "text/plain": [
       "                                        Name   Price   Location Running  \\\n",
       "0    TVS Star City Plus Dual Tone 110cc 2018   35000  Ahmedabad   17654   \n",
       "1           Royal Enfield Classic 350cc 2017  119900      Delhi   11000   \n",
       "2                  Triumph Daytona 675R 2013  600000      Delhi     110   \n",
       "3                  TVS Apache RTR 180cc 2017   65000  Bangalore   16329   \n",
       "4  Yamaha FZ S V 2.0 150cc-Ltd. Edition 2018   80000  Bangalore   10000   \n",
       "\n",
       "         Owner Cubic_Capacity  Year  \n",
       "0  First Owner            110  2018  \n",
       "1  First Owner            350  2017  \n",
       "2  First Owner            675  2013  \n",
       "3  First Owner            180  2017  \n",
       "4  First Owner            150  2018  "
      ]
     },
     "execution_count": 24,
     "metadata": {},
     "output_type": "execute_result"
    }
   ],
   "source": [
    "bike.head()"
   ]
  },
  {
   "cell_type": "code",
   "execution_count": 25,
   "metadata": {},
   "outputs": [],
   "source": [
    "#this is quite unique separation for me.\n",
    "model=[]\n",
    "for mod in bike.Name:\n",
    "    \n",
    "    name=mod.split(' ')\n",
    "    if 'Honda' and 'CB' in mod:\n",
    "        model.append(name[0]+' '+name[1]+' '+name[2])\n",
    "    elif 'FZ' and '2.0' in mod:\n",
    "         model.append(name[0]+' '+name[1]+' V 2.0')\n",
    "    elif  'Triumph Street' in mod:\n",
    "        model.append(name[0]+' '+name[1]+' '+name[2])\n",
    "    elif 'BMW G 310' in mod:\n",
    "        model.append(name[0]+' '+name[1]+' '+name[2]+' '+name[3])\n",
    "    else:\n",
    "        model.append(name[0]+' '+name[1])"
   ]
  },
  {
   "cell_type": "code",
   "execution_count": 26,
   "metadata": {},
   "outputs": [],
   "source": [
    "#Adding our model list in the dataframe\n",
    "bike['Model']=model"
   ]
  },
  {
   "cell_type": "code",
   "execution_count": 27,
   "metadata": {},
   "outputs": [
    {
     "data": {
      "text/html": [
       "<div>\n",
       "<style scoped>\n",
       "    .dataframe tbody tr th:only-of-type {\n",
       "        vertical-align: middle;\n",
       "    }\n",
       "\n",
       "    .dataframe tbody tr th {\n",
       "        vertical-align: top;\n",
       "    }\n",
       "\n",
       "    .dataframe thead th {\n",
       "        text-align: right;\n",
       "    }\n",
       "</style>\n",
       "<table border=\"1\" class=\"dataframe\">\n",
       "  <thead>\n",
       "    <tr style=\"text-align: right;\">\n",
       "      <th></th>\n",
       "      <th>Name</th>\n",
       "      <th>Price</th>\n",
       "      <th>Location</th>\n",
       "      <th>Running</th>\n",
       "      <th>Owner</th>\n",
       "      <th>Cubic_Capacity</th>\n",
       "      <th>Year</th>\n",
       "      <th>Model</th>\n",
       "    </tr>\n",
       "  </thead>\n",
       "  <tbody>\n",
       "    <tr>\n",
       "      <th>0</th>\n",
       "      <td>TVS Star City Plus Dual Tone 110cc 2018</td>\n",
       "      <td>35000</td>\n",
       "      <td>Ahmedabad</td>\n",
       "      <td>17654</td>\n",
       "      <td>First Owner</td>\n",
       "      <td>110</td>\n",
       "      <td>2018</td>\n",
       "      <td>TVS Star</td>\n",
       "    </tr>\n",
       "    <tr>\n",
       "      <th>1</th>\n",
       "      <td>Royal Enfield Classic 350cc 2017</td>\n",
       "      <td>119900</td>\n",
       "      <td>Delhi</td>\n",
       "      <td>11000</td>\n",
       "      <td>First Owner</td>\n",
       "      <td>350</td>\n",
       "      <td>2017</td>\n",
       "      <td>Royal Enfield</td>\n",
       "    </tr>\n",
       "    <tr>\n",
       "      <th>2</th>\n",
       "      <td>Triumph Daytona 675R 2013</td>\n",
       "      <td>600000</td>\n",
       "      <td>Delhi</td>\n",
       "      <td>110</td>\n",
       "      <td>First Owner</td>\n",
       "      <td>675</td>\n",
       "      <td>2013</td>\n",
       "      <td>Triumph Daytona</td>\n",
       "    </tr>\n",
       "    <tr>\n",
       "      <th>3</th>\n",
       "      <td>TVS Apache RTR 180cc 2017</td>\n",
       "      <td>65000</td>\n",
       "      <td>Bangalore</td>\n",
       "      <td>16329</td>\n",
       "      <td>First Owner</td>\n",
       "      <td>180</td>\n",
       "      <td>2017</td>\n",
       "      <td>TVS Apache</td>\n",
       "    </tr>\n",
       "    <tr>\n",
       "      <th>4</th>\n",
       "      <td>Yamaha FZ S V 2.0 150cc-Ltd. Edition 2018</td>\n",
       "      <td>80000</td>\n",
       "      <td>Bangalore</td>\n",
       "      <td>10000</td>\n",
       "      <td>First Owner</td>\n",
       "      <td>150</td>\n",
       "      <td>2018</td>\n",
       "      <td>Yamaha FZ V 2.0</td>\n",
       "    </tr>\n",
       "  </tbody>\n",
       "</table>\n",
       "</div>"
      ],
      "text/plain": [
       "                                        Name   Price   Location Running  \\\n",
       "0    TVS Star City Plus Dual Tone 110cc 2018   35000  Ahmedabad   17654   \n",
       "1           Royal Enfield Classic 350cc 2017  119900      Delhi   11000   \n",
       "2                  Triumph Daytona 675R 2013  600000      Delhi     110   \n",
       "3                  TVS Apache RTR 180cc 2017   65000  Bangalore   16329   \n",
       "4  Yamaha FZ S V 2.0 150cc-Ltd. Edition 2018   80000  Bangalore   10000   \n",
       "\n",
       "         Owner Cubic_Capacity  Year            Model  \n",
       "0  First Owner            110  2018         TVS Star  \n",
       "1  First Owner            350  2017    Royal Enfield  \n",
       "2  First Owner            675  2013  Triumph Daytona  \n",
       "3  First Owner            180  2017       TVS Apache  \n",
       "4  First Owner            150  2018  Yamaha FZ V 2.0  "
      ]
     },
     "execution_count": 27,
     "metadata": {},
     "output_type": "execute_result"
    }
   ],
   "source": [
    "bike.head()"
   ]
  },
  {
   "cell_type": "code",
   "execution_count": 28,
   "metadata": {},
   "outputs": [
    {
     "data": {
      "text/plain": [
       "186"
      ]
     },
     "execution_count": 28,
     "metadata": {},
     "output_type": "execute_result"
    }
   ],
   "source": [
    "len(bike['Model'].unique())"
   ]
  },
  {
   "cell_type": "code",
   "execution_count": 29,
   "metadata": {},
   "outputs": [],
   "source": [
    "#deleting the Name feature\n",
    "bike.drop(['Name'],axis=1,inplace=True)"
   ]
  },
  {
   "cell_type": "code",
   "execution_count": 30,
   "metadata": {},
   "outputs": [],
   "source": [
    "#let's rearrange the feature name.\n",
    "bike=bike[['Year','Model','Cubic_Capacity','Location','Running','Owner','Price']]"
   ]
  },
  {
   "cell_type": "code",
   "execution_count": 31,
   "metadata": {},
   "outputs": [],
   "source": [
    "bike.rename(columns={'Cubic_Capacity':'cc'},inplace=True)\n",
    "bike.rename(columns={'Running':'Running(km)'},inplace=True)"
   ]
  },
  {
   "cell_type": "code",
   "execution_count": 32,
   "metadata": {
    "scrolled": true
   },
   "outputs": [
    {
     "data": {
      "text/html": [
       "<div>\n",
       "<style scoped>\n",
       "    .dataframe tbody tr th:only-of-type {\n",
       "        vertical-align: middle;\n",
       "    }\n",
       "\n",
       "    .dataframe tbody tr th {\n",
       "        vertical-align: top;\n",
       "    }\n",
       "\n",
       "    .dataframe thead th {\n",
       "        text-align: right;\n",
       "    }\n",
       "</style>\n",
       "<table border=\"1\" class=\"dataframe\">\n",
       "  <thead>\n",
       "    <tr style=\"text-align: right;\">\n",
       "      <th></th>\n",
       "      <th>Year</th>\n",
       "      <th>Model</th>\n",
       "      <th>cc</th>\n",
       "      <th>Location</th>\n",
       "      <th>Running(km)</th>\n",
       "      <th>Owner</th>\n",
       "      <th>Price</th>\n",
       "    </tr>\n",
       "  </thead>\n",
       "  <tbody>\n",
       "    <tr>\n",
       "      <th>0</th>\n",
       "      <td>2018</td>\n",
       "      <td>TVS Star</td>\n",
       "      <td>110</td>\n",
       "      <td>Ahmedabad</td>\n",
       "      <td>17654</td>\n",
       "      <td>First Owner</td>\n",
       "      <td>35000</td>\n",
       "    </tr>\n",
       "    <tr>\n",
       "      <th>1</th>\n",
       "      <td>2017</td>\n",
       "      <td>Royal Enfield</td>\n",
       "      <td>350</td>\n",
       "      <td>Delhi</td>\n",
       "      <td>11000</td>\n",
       "      <td>First Owner</td>\n",
       "      <td>119900</td>\n",
       "    </tr>\n",
       "    <tr>\n",
       "      <th>2</th>\n",
       "      <td>2013</td>\n",
       "      <td>Triumph Daytona</td>\n",
       "      <td>675</td>\n",
       "      <td>Delhi</td>\n",
       "      <td>110</td>\n",
       "      <td>First Owner</td>\n",
       "      <td>600000</td>\n",
       "    </tr>\n",
       "    <tr>\n",
       "      <th>3</th>\n",
       "      <td>2017</td>\n",
       "      <td>TVS Apache</td>\n",
       "      <td>180</td>\n",
       "      <td>Bangalore</td>\n",
       "      <td>16329</td>\n",
       "      <td>First Owner</td>\n",
       "      <td>65000</td>\n",
       "    </tr>\n",
       "    <tr>\n",
       "      <th>4</th>\n",
       "      <td>2018</td>\n",
       "      <td>Yamaha FZ V 2.0</td>\n",
       "      <td>150</td>\n",
       "      <td>Bangalore</td>\n",
       "      <td>10000</td>\n",
       "      <td>First Owner</td>\n",
       "      <td>80000</td>\n",
       "    </tr>\n",
       "  </tbody>\n",
       "</table>\n",
       "</div>"
      ],
      "text/plain": [
       "   Year            Model   cc   Location Running(km)        Owner   Price\n",
       "0  2018         TVS Star  110  Ahmedabad       17654  First Owner   35000\n",
       "1  2017    Royal Enfield  350      Delhi       11000  First Owner  119900\n",
       "2  2013  Triumph Daytona  675      Delhi         110  First Owner  600000\n",
       "3  2017       TVS Apache  180  Bangalore       16329  First Owner   65000\n",
       "4  2018  Yamaha FZ V 2.0  150  Bangalore       10000  First Owner   80000"
      ]
     },
     "execution_count": 32,
     "metadata": {},
     "output_type": "execute_result"
    }
   ],
   "source": [
    "bike.head()"
   ]
  },
  {
   "cell_type": "code",
   "execution_count": 33,
   "metadata": {},
   "outputs": [],
   "source": [
    "#bike1=bike\n",
    "#bike1.to_csv('bike1with name.csv')"
   ]
  },
  {
   "cell_type": "code",
   "execution_count": 34,
   "metadata": {},
   "outputs": [
    {
     "data": {
      "text/plain": [
       "Year           object\n",
       "Model          object\n",
       "cc             object\n",
       "Location       object\n",
       "Running(km)    object\n",
       "Owner          object\n",
       "Price          object\n",
       "dtype: object"
      ]
     },
     "execution_count": 34,
     "metadata": {},
     "output_type": "execute_result"
    }
   ],
   "source": [
    "bike.dtypes"
   ]
  },
  {
   "cell_type": "markdown",
   "metadata": {},
   "source": [
    "converting objects datatype to integer data type whereever required."
   ]
  },
  {
   "cell_type": "code",
   "execution_count": 35,
   "metadata": {},
   "outputs": [],
   "source": [
    "bike['Year']=pd.to_numeric(bike['Year'])\n",
    "bike['cc']=pd.to_numeric(bike['cc'])\n",
    "bike['Running(km)']=pd.to_numeric(bike['Running(km)'])"
   ]
  },
  {
   "cell_type": "code",
   "execution_count": 36,
   "metadata": {},
   "outputs": [],
   "source": [
    "from sklearn.preprocessing import LabelEncoder\n",
    "labelencoder=LabelEncoder()\n",
    "#encoding the sex column\n",
    "bike.iloc[:,1]=labelencoder.fit_transform(bike.iloc[:,1].values)\n",
    "bike.iloc[:,3]=labelencoder.fit_transform(bike.iloc[:,3].values)\n",
    "bike.iloc[:,5]=labelencoder.fit_transform(bike.iloc[:,5].values)"
   ]
  },
  {
   "cell_type": "markdown",
   "metadata": {},
   "source": [
    "one hot encoder is a good technique ,but here values are too many and so i avoid that technique."
   ]
  },
  {
   "cell_type": "code",
   "execution_count": 37,
   "metadata": {},
   "outputs": [
    {
     "data": {
      "text/html": [
       "<div>\n",
       "<style scoped>\n",
       "    .dataframe tbody tr th:only-of-type {\n",
       "        vertical-align: middle;\n",
       "    }\n",
       "\n",
       "    .dataframe tbody tr th {\n",
       "        vertical-align: top;\n",
       "    }\n",
       "\n",
       "    .dataframe thead th {\n",
       "        text-align: right;\n",
       "    }\n",
       "</style>\n",
       "<table border=\"1\" class=\"dataframe\">\n",
       "  <thead>\n",
       "    <tr style=\"text-align: right;\">\n",
       "      <th></th>\n",
       "      <th>Year</th>\n",
       "      <th>Model</th>\n",
       "      <th>cc</th>\n",
       "      <th>Location</th>\n",
       "      <th>Running(km)</th>\n",
       "      <th>Owner</th>\n",
       "      <th>Price</th>\n",
       "    </tr>\n",
       "  </thead>\n",
       "  <tbody>\n",
       "    <tr>\n",
       "      <th>0</th>\n",
       "      <td>2018</td>\n",
       "      <td>142</td>\n",
       "      <td>110</td>\n",
       "      <td>7</td>\n",
       "      <td>17654</td>\n",
       "      <td>0</td>\n",
       "      <td>35000</td>\n",
       "    </tr>\n",
       "    <tr>\n",
       "      <th>1</th>\n",
       "      <td>2017</td>\n",
       "      <td>118</td>\n",
       "      <td>350</td>\n",
       "      <td>126</td>\n",
       "      <td>11000</td>\n",
       "      <td>0</td>\n",
       "      <td>119900</td>\n",
       "    </tr>\n",
       "    <tr>\n",
       "      <th>2</th>\n",
       "      <td>2013</td>\n",
       "      <td>146</td>\n",
       "      <td>675</td>\n",
       "      <td>126</td>\n",
       "      <td>110</td>\n",
       "      <td>0</td>\n",
       "      <td>600000</td>\n",
       "    </tr>\n",
       "    <tr>\n",
       "      <th>3</th>\n",
       "      <td>2017</td>\n",
       "      <td>131</td>\n",
       "      <td>180</td>\n",
       "      <td>48</td>\n",
       "      <td>16329</td>\n",
       "      <td>0</td>\n",
       "      <td>65000</td>\n",
       "    </tr>\n",
       "    <tr>\n",
       "      <th>4</th>\n",
       "      <td>2018</td>\n",
       "      <td>156</td>\n",
       "      <td>150</td>\n",
       "      <td>48</td>\n",
       "      <td>10000</td>\n",
       "      <td>0</td>\n",
       "      <td>80000</td>\n",
       "    </tr>\n",
       "  </tbody>\n",
       "</table>\n",
       "</div>"
      ],
      "text/plain": [
       "   Year  Model   cc  Location  Running(km)  Owner   Price\n",
       "0  2018    142  110         7        17654      0   35000\n",
       "1  2017    118  350       126        11000      0  119900\n",
       "2  2013    146  675       126          110      0  600000\n",
       "3  2017    131  180        48        16329      0   65000\n",
       "4  2018    156  150        48        10000      0   80000"
      ]
     },
     "execution_count": 37,
     "metadata": {},
     "output_type": "execute_result"
    }
   ],
   "source": [
    "bike.head()"
   ]
  },
  {
   "cell_type": "code",
   "execution_count": 38,
   "metadata": {},
   "outputs": [
    {
     "data": {
      "text/plain": [
       "Year            int64\n",
       "Model           int32\n",
       "cc              int64\n",
       "Location        int32\n",
       "Running(km)     int64\n",
       "Owner           int32\n",
       "Price          object\n",
       "dtype: object"
      ]
     },
     "execution_count": 38,
     "metadata": {},
     "output_type": "execute_result"
    }
   ],
   "source": [
    "bike.dtypes"
   ]
  },
  {
   "cell_type": "markdown",
   "metadata": {},
   "source": [
    "Price feature has trouble some values,if u see in excel one will find two price values for a particular row,we need to select only one value."
   ]
  },
  {
   "cell_type": "code",
   "execution_count": 39,
   "metadata": {},
   "outputs": [],
   "source": [
    "bike['Price']=bike['Price'].apply(lambda x: x.replace(',',''))"
   ]
  },
  {
   "cell_type": "code",
   "execution_count": 40,
   "metadata": {},
   "outputs": [],
   "source": [
    "#So splitting the entry inorder to get single value\n",
    "bike['Price']=bike['Price'].apply(lambda x: x.split(\"\\n\")[0])"
   ]
  },
  {
   "cell_type": "code",
   "execution_count": 41,
   "metadata": {},
   "outputs": [],
   "source": [
    "bike['Price']=pd.to_numeric(bike['Price'])"
   ]
  },
  {
   "cell_type": "code",
   "execution_count": 42,
   "metadata": {},
   "outputs": [
    {
     "data": {
      "text/plain": [
       "Year           int64\n",
       "Model          int32\n",
       "cc             int64\n",
       "Location       int32\n",
       "Running(km)    int64\n",
       "Owner          int32\n",
       "Price          int64\n",
       "dtype: object"
      ]
     },
     "execution_count": 42,
     "metadata": {},
     "output_type": "execute_result"
    }
   ],
   "source": [
    "bike.dtypes"
   ]
  },
  {
   "cell_type": "code",
   "execution_count": 43,
   "metadata": {},
   "outputs": [],
   "source": [
    "#bike2=bike\n",
    "#bike2.to_csv('bike2onlynumbers.csv')"
   ]
  },
  {
   "cell_type": "markdown",
   "metadata": {},
   "source": [
    "The data set is ready let's do the model building"
   ]
  },
  {
   "cell_type": "code",
   "execution_count": 44,
   "metadata": {},
   "outputs": [],
   "source": [
    "#creating object for dependent and independent variable.\n",
    "X = bike[['Year','Model','cc','Location','Running(km)','Owner']]\n",
    "Y=bike.Price"
   ]
  },
  {
   "cell_type": "code",
   "execution_count": 45,
   "metadata": {},
   "outputs": [],
   "source": [
    "X_train,X_test,y_train,y_test=train_test_split(X,Y,test_size=0.3,random_state=100)"
   ]
  },
  {
   "cell_type": "code",
   "execution_count": 46,
   "metadata": {},
   "outputs": [
    {
     "name": "stdout",
     "output_type": "stream",
     "text": [
      "(24125, 6) (24125,)\n",
      "(10340, 6) (10340,)\n"
     ]
    }
   ],
   "source": [
    "print(X_train.shape,y_train.shape)\n",
    "print(X_test.shape,y_test.shape)"
   ]
  },
  {
   "cell_type": "markdown",
   "metadata": {},
   "source": [
    "Creating functions with many models."
   ]
  },
  {
   "cell_type": "code",
   "execution_count": 47,
   "metadata": {},
   "outputs": [],
   "source": [
    "def models(X_train,y_train):\n",
    "    #random forest\n",
    "    rf=RandomForestRegressor()\n",
    "    rf.fit(X_train,y_train)\n",
    "    \n",
    "    #Xgboost\n",
    "    xgb=xgboost.XGBRegressor()\n",
    "    xgb.fit(X_train,y_train)\n",
    "    \n",
    "    #Gradient\n",
    "    gradient= GradientBoostingRegressor()\n",
    "    gradient.fit(X_train,y_train)\n",
    "    \n",
    "    #adaboost\n",
    "    ada=AdaBoostRegressor()\n",
    "    ada.fit(X_train,y_train)\n",
    "    \n",
    "    #print the training accuracy\n",
    "    print(\"[1]randomforest training accuracy:\",rf.score(X_train,y_train))\n",
    "    print(\"[2]xgb training accuracy:\",xgb.score(X_train,y_train))\n",
    "    print(\"[3]gradient training accuracy:\",gradient.score(X_train,y_train))\n",
    "    print(\"[4]adaboost training accuracy:\",ada.score(X_train,y_train))\n",
    "    return rf,xgb,gradient,ada"
   ]
  },
  {
   "cell_type": "markdown",
   "metadata": {},
   "source": [
    "if you face problem in installing any regressor do follow the documentation"
   ]
  },
  {
   "cell_type": "code",
   "execution_count": 48,
   "metadata": {},
   "outputs": [
    {
     "name": "stdout",
     "output_type": "stream",
     "text": [
      "[1]randomforest training accuracy: 0.9666719583002669\n",
      "[2]xgb training accuracy: 0.9966700505966148\n",
      "[3]gradient training accuracy: 0.8650235043623127\n",
      "[4]adaboost training accuracy: 0.20368484950818766\n"
     ]
    }
   ],
   "source": [
    "#get and train all models\n",
    "model=models(X_train,y_train)"
   ]
  },
  {
   "cell_type": "markdown",
   "metadata": {},
   "source": [
    "As i can see with default parameters i can get accuracy for training set as 99% for one of the model which is quite good when compared to others.\n",
    "\n",
    "So tuning is not required now."
   ]
  },
  {
   "cell_type": "code",
   "execution_count": 49,
   "metadata": {},
   "outputs": [
    {
     "data": {
      "text/plain": [
       "RandomForestRegressor()"
      ]
     },
     "execution_count": 49,
     "metadata": {},
     "output_type": "execute_result"
    }
   ],
   "source": [
    "rf=RandomForestRegressor()\n",
    "rf.fit(X_train,y_train)"
   ]
  },
  {
   "cell_type": "code",
   "execution_count": 50,
   "metadata": {},
   "outputs": [],
   "source": [
    "y_predrf=rf.predict(X_test)"
   ]
  },
  {
   "cell_type": "code",
   "execution_count": 51,
   "metadata": {},
   "outputs": [
    {
     "name": "stdout",
     "output_type": "stream",
     "text": [
      "4233.435452911716\n",
      "0.9220111635258822\n"
     ]
    }
   ],
   "source": [
    "print(mean_absolute_error(y_test,y_predrf))\n",
    "print(metrics.r2_score(y_test,y_predrf))"
   ]
  },
  {
   "cell_type": "code",
   "execution_count": 55,
   "metadata": {
    "scrolled": true
   },
   "outputs": [
    {
     "data": {
      "text/plain": [
       "XGBRegressor(base_score=0.5, booster='gbtree', colsample_bylevel=1,\n",
       "             colsample_bynode=1, colsample_bytree=1, gamma=0, gpu_id=-1,\n",
       "             importance_type='gain', interaction_constraints='',\n",
       "             learning_rate=0.300000012, max_delta_step=0, max_depth=5,\n",
       "             min_child_weight=1, missing=nan, monotone_constraints='()',\n",
       "             n_estimators=100, n_jobs=0, num_parallel_tree=1, random_state=0,\n",
       "             reg_alpha=0, reg_lambda=1, scale_pos_weight=1, subsample=1,\n",
       "             tree_method='exact', validate_parameters=1, verbosity=None)"
      ]
     },
     "execution_count": 55,
     "metadata": {},
     "output_type": "execute_result"
    }
   ],
   "source": [
    "#Xgboost\n",
    "xgb=xgboost.XGBRegressor(max_depth=5)\n",
    "xgb.fit(X_train,y_train)"
   ]
  },
  {
   "cell_type": "code",
   "execution_count": 56,
   "metadata": {},
   "outputs": [],
   "source": [
    "y_predxg=xgb.predict(X_test)"
   ]
  },
  {
   "cell_type": "code",
   "execution_count": 57,
   "metadata": {},
   "outputs": [
    {
     "name": "stdout",
     "output_type": "stream",
     "text": [
      "5236.395511897252\n",
      "0.7938703154724347\n"
     ]
    }
   ],
   "source": [
    "print(mean_absolute_error(y_test,y_predxg))\n",
    "print(metrics.r2_score(y_test,y_predxg))"
   ]
  },
  {
   "cell_type": "markdown",
   "metadata": {},
   "source": [
    "From the above comparison i can say xgb gives good accuracy on training but on test data random forest gives better result."
   ]
  },
  {
   "cell_type": "markdown",
   "metadata": {},
   "source": [
    "Saving the file."
   ]
  },
  {
   "cell_type": "code",
   "execution_count": 79,
   "metadata": {},
   "outputs": [],
   "source": [
    "filename = 'second_hand_bike_price_prediction.pkl'\n",
    "pickle.dump(rf, open(filename, 'wb'))"
   ]
  },
  {
   "cell_type": "code",
   "execution_count": null,
   "metadata": {},
   "outputs": [],
   "source": []
  }
 ],
 "metadata": {
  "kernelspec": {
   "display_name": "Python 3",
   "language": "python",
   "name": "python3"
  },
  "language_info": {
   "codemirror_mode": {
    "name": "ipython",
    "version": 3
   },
   "file_extension": ".py",
   "mimetype": "text/x-python",
   "name": "python",
   "nbconvert_exporter": "python",
   "pygments_lexer": "ipython3",
   "version": "3.8.3"
  }
 },
 "nbformat": 4,
 "nbformat_minor": 4
}
